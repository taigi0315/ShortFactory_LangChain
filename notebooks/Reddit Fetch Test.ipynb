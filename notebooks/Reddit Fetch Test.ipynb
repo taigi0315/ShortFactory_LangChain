{
 "cells": [
  {
   "cell_type": "code",
   "execution_count": 4,
   "id": "a9bc7494-29d6-4de9-a929-705759f7741e",
   "metadata": {},
   "outputs": [],
   "source": [
    "import os\n",
    "import sys\n",
    "from dotenv import load_dotenv\n",
    "\n",
    "sys.path.append(os.path.abspath('..'))\n",
    "load_dotenv()\n",
    "\n",
    "from tools.reddit_fetcher import RedditFetcher\n",
    "fetcher = RedditFetcher()"
   ]
  },
  {
   "cell_type": "code",
   "execution_count": 6,
   "id": "7bb5668c-9089-41d8-89b2-0f417d2e0fb2",
   "metadata": {},
   "outputs": [
    {
     "name": "stdout",
     "output_type": "stream",
     "text": [
      "사용 가능한 카테고리:\n",
      "- 💔 충격적인 인간관계 & 감정적 갈등\n",
      "  인간관계와 감정적 갈등에 관한 다양한 이야기들\n",
      "- 🧑‍💼 이상하고 흥미로운 직장 이야기\n",
      "  직장에서 벌어지는 다양한 사건과 갈등\n",
      "- 🎩 충격적 결혼 & 행사 이야기\n",
      "  결혼식과 행사에서 벌어지는 다양한 사건들\n"
     ]
    }
   ],
   "source": [
    "categories = fetcher.get_categories()\n",
    "print(\"사용 가능한 카테고리:\")\n",
    "for category_id, category_info in categories.items():\n",
    "    print(f\"- {category_info['title']}\")\n",
    "    print(f\"  {category_info['description']}\")"
   ]
  },
  {
   "cell_type": "code",
   "execution_count": 7,
   "id": "5dc372b6-94c1-471d-afb7-9c86bfe8d55b",
   "metadata": {},
   "outputs": [
    {
     "name": "stdout",
     "output_type": "stream",
     "text": [
      "Error fetching posts from r/AITA: received 403 HTTP response\n",
      "\n",
      "================================================================================\n",
      "📌 r/relationship_advice\n",
      "================================================================================\n",
      "\n",
      "🔖 1. I 28F think a nap ruined my marriage to 30M\n",
      "🔗 https://www.reddit.com/r/relationship_advice/comments/1jrxp85/i_28f_think_a_nap_ruined_my_marriage_to_30m/\n",
      "👍 Upvotes: 10894 | 💬 Comments: 759\n",
      "📖 Content Preview: I 28F am married to 30M. \n",
      "\n",
      "I’ll probably delete this is the morning but I need to scream into the void. I’ve been married for under a year but with my husband for 6. We have a 3 month old little girl who’s fantastic. I’m a first time mom who’s a SAHM. My husband WFH. \n",
      "\n",
      "My husband’s not dumb just emo...\n",
      "============================================================\n",
      "\n",
      "🔖 2. I (28F) rejected my husband (33M) for the first time and his reaction grossed me out\n",
      "🔗 https://www.reddit.com/r/relationship_advice/comments/1jdyo2e/i_28f_rejected_my_husband_33m_for_the_first_time/\n",
      "👍 Upvotes: 7165 | 💬 Comments: 1002\n",
      "📖 Content Preview: My husband and I are trying to spice up our sex life (I am the one actively trying to, he’s just along for the ride). We were watching a racy movie and I asked him if we can choose two toys out of our collection tonight. He gave a “do we have to?” kind of reaction and made a vibrator joke. We went t...\n",
      "============================================================\n",
      "\n",
      "\n",
      "================================================================================\n",
      "📌 r/AITA\n",
      "================================================================================\n",
      "\n",
      "\n",
      "================================================================================\n",
      "📌 r/entitledparents\n",
      "================================================================================\n",
      "\n",
      "🔖 1. EM tried to sue me for “drugging her child”\n",
      "🔗 https://www.reddit.com/r/entitledparents/comments/1jjm11w/em_tried_to_sue_me_for_drugging_her_child/\n",
      "👍 Upvotes: 5200 | 💬 Comments: 104\n",
      "📖 Content Preview: I (19F) am a server at a restaurant with a bar in it. The bar side of the restaurant is, of course, 21+ and anyone who orders an alcoholic beverage is required to show the waiter their ID. The rest of the restaurant, however, is child friendly.\n",
      "\n",
      "We were serving breakfast and I was serving a table of...\n",
      "============================================================\n",
      "\n",
      "🔖 2. A small child punched me in the stomach bc I wouldn’t let him pet my dog who was clearly in distress. His parents got mad at ME\n",
      "🔗 https://www.reddit.com/r/entitledparents/comments/1jc0m0l/a_small_child_punched_me_in_the_stomach_bc_i/\n",
      "👍 Upvotes: 2886 | 💬 Comments: 187\n",
      "📖 Content Preview: My very old dog was outside in our yard foaming at the mouth, gasping for air, and it was coming out the other end. This was right after he had incontinence in the house. I was crashing out because the vet said he could die any day so I’m thinking this is the end.\n",
      "\n",
      "I’m in the yard figuring out what ...\n",
      "============================================================\n",
      "\n",
      "\n",
      "================================================================================\n",
      "📌 r/JUSTNOMIL\n",
      "================================================================================\n",
      "\n",
      "🔖 1. Update from yesterdays post- MIL came over and screamed at husband unannounced\n",
      "🔗 https://www.reddit.com/r/JUSTNOMIL/comments/1j9su31/update_from_yesterdays_post_mil_came_over_and/\n",
      "👍 Upvotes: 1917 | 💬 Comments: 120\n",
      "📖 Content Preview: *EDIT- I DONT KNOW WHERE THE BLOOD CAME FROM. i think she fell or something. *\n",
      "\n",
      "I posted yesterday that my mother in law decided to start potty training my Son behind my back and without me there a couple days ago, even though I asked her not to and told her we were waiting (for various reasons).  I...\n",
      "============================================================\n",
      "\n",
      "🔖 2. Wesding venue made an update I don't think they intended us to see\n",
      "🔗 https://www.reddit.com/r/JUSTNOMIL/comments/1jri6pg/wesding_venue_made_an_update_i_dont_think_they/\n",
      "👍 Upvotes: 1789 | 💬 Comments: 91\n",
      "📖 Content Preview: First, just wanted go say that I'm glad this sub exists. I was hoping our own wedding planning process would avoid too much MIL drama, but here we are.\n",
      "\n",
      "My fiancé and I are trying to nail down a venue. Her parents have offered to pay for the wedding itself, which is huge. Neither of us are well off,...\n",
      "============================================================\n",
      "\n",
      "\n",
      "================================================================================\n",
      "📌 r/survivinginfidelity\n",
      "================================================================================\n",
      "\n",
      "🔖 1. FINAL UPDATE: New Details Still Trickling Out 30-Years Later\n",
      "🔗 https://www.reddit.com/r/survivinginfidelity/comments/1j5gs5h/final_update_new_details_still_trickling_out/\n",
      "👍 Upvotes: 414 | 💬 Comments: 59\n",
      "📖 Content Preview: TLDR; \"My wife had an affair 30 years ago. The story I was told on D-day and the months following was missing details that may have changed my initial decision to reconcile. These additional details kept immerging accidentally over the years in a process we call trickle-truthing. The latest details ...\n",
      "============================================================\n",
      "\n",
      "🔖 2. It's crazy to see how her life is going...\n",
      "🔗 https://www.reddit.com/r/survivinginfidelity/comments/1jqxcdx/its_crazy_to_see_how_her_life_is_going/\n",
      "👍 Upvotes: 346 | 💬 Comments: 57\n",
      "📖 Content Preview: When she asked for divorce, the typical \"I love you but I am not in love with you\" AKA cheating, she blamed me for everything, I was the one that did everything wrong according to her, I was a bad provider, I was a bad dad, I was bad at cleaning and cooking (wrong, I am pretty descent at cooking and...\n",
      "============================================================\n",
      "\n"
     ]
    }
   ],
   "source": [
    "category = \"relationships\"  # 또는 \"work\", \"wedding\"\n",
    "posts = fetcher.fetch_posts_from_category(\n",
    "    category=category,\n",
    "    posts_per_subreddit=2,\n",
    "    time_filter=\"month\"\n",
    ")\n",
    "\n",
    "fetcher.print_category_posts(posts)"
   ]
  },
  {
   "cell_type": "code",
   "execution_count": 8,
   "id": "fb13e500-d192-4e24-a812-e473396be46b",
   "metadata": {},
   "outputs": [
    {
     "name": "stdout",
     "output_type": "stream",
     "text": [
      "🔖 1. I 28F think a nap ruined my marriage to 30M\n",
      "🔗 https://www.reddit.com/r/relationship_advice/comments/1jrxp85/i_28f_think_a_nap_ruined_my_marriage_to_30m/\n",
      "👍 Upvotes: 10889 | 💬 Comments: 759\n",
      "📖 Content Preview: I 28F am married to 30M. \n",
      "\n",
      "I’ll probably delete this is the morning but I need to scream into the void. I’ve been married for under a year but with my husband for 6. We have a 3 month old little girl who’s fantastic. I’m a first time mom who’s a SAHM. My husband WFH. \n",
      "\n",
      "My husband’s not dumb just emo...\n",
      "============================================================\n",
      "\n",
      "🔖 2. UPDATE: Finally meeting my (29m) online \"girlfriend\" (29f) after years of talking, it's not going well.\n",
      "🔗 https://www.reddit.com/r/relationship_advice/comments/1jnzvf4/update_finally_meeting_my_29m_online_girlfriend/\n",
      "👍 Upvotes: 5746 | 💬 Comments: 580\n",
      "📖 Content Preview: Yesterday morning I woke up, made the original post and waited nervously for her to wake up. It once again took a couple of hours, a little after noon she finally messaged me.\n",
      "\n",
      "She said we had dinner in the later afternoon with her mother, and I could Uber over to her place whenever. A few of you su...\n",
      "============================================================\n",
      "\n",
      "🔖 3. My freshly ex bf (27M) keeps blowing up my (24F) phone after his hurtful April Fools prank and our break up. How can I cut him off without cutting off my entire friend group?\n",
      "🔗 https://www.reddit.com/r/relationship_advice/comments/1jq39kv/my_freshly_ex_bf_27m_keeps_blowing_up_my_24f/\n",
      "👍 Upvotes: 5417 | 💬 Comments: 878\n",
      "📖 Content Preview: I made an AIO post because I have been really emotional about this situation. Here is the context of why he keeps messaging me: \n",
      "\n",
      "So I (24F) and my bf (27M) have been together just over a year now. He has never been the pranking type and we have explicitly discussed that I do not enjoy pranks or sur...\n",
      "============================================================\n",
      "\n"
     ]
    }
   ],
   "source": [
    "subreddit_name = \"relationship_advice\"\n",
    "posts = fetcher.fetch_popular_posts(\n",
    "    subreddit_name=subreddit_name,\n",
    "    top_limit=3,\n",
    "    time_filter=\"week\"\n",
    ")\n",
    "\n",
    "fetcher.print_posts(posts)"
   ]
  },
  {
   "cell_type": "code",
   "execution_count": null,
   "id": "6e13280f-7d2b-48a6-a62b-7b0cd976d7ce",
   "metadata": {},
   "outputs": [],
   "source": []
  }
 ],
 "metadata": {
  "kernelspec": {
   "display_name": "Python 3 (ipykernel)",
   "language": "python",
   "name": "python3"
  },
  "language_info": {
   "codemirror_mode": {
    "name": "ipython",
    "version": 3
   },
   "file_extension": ".py",
   "mimetype": "text/x-python",
   "name": "python",
   "nbconvert_exporter": "python",
   "pygments_lexer": "ipython3",
   "version": "3.12.2"
  }
 },
 "nbformat": 4,
 "nbformat_minor": 5
}
