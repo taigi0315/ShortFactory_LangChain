{
 "cells": [
  {
   "cell_type": "code",
   "execution_count": 1,
   "id": "cf41dd1c-ca82-4140-b32c-0e2d84a4765a",
   "metadata": {},
   "outputs": [
    {
     "ename": "FileNotFoundError",
     "evalue": "[Errno 2] No such file or directory: 'credentials.json'",
     "output_type": "error",
     "traceback": [
      "\u001b[31m---------------------------------------------------------------------------\u001b[39m",
      "\u001b[31mFileNotFoundError\u001b[39m                         Traceback (most recent call last)",
      "\u001b[36mCell\u001b[39m\u001b[36m \u001b[39m\u001b[32mIn[1]\u001b[39m\u001b[32m, line 16\u001b[39m\n\u001b[32m     13\u001b[39m \u001b[38;5;28;01mfrom\u001b[39;00m\u001b[38;5;250m \u001b[39m\u001b[34;01mtools\u001b[39;00m\u001b[34;01m.\u001b[39;00m\u001b[34;01mreddit_fetcher\u001b[39;00m\u001b[38;5;250m \u001b[39m\u001b[38;5;28;01mimport\u001b[39;00m RedditFetcher\n\u001b[32m     15\u001b[39m \u001b[38;5;66;03m# 2. RedditFetcher 인스턴스 생성\u001b[39;00m\n\u001b[32m---> \u001b[39m\u001b[32m16\u001b[39m fetcher = \u001b[43mRedditFetcher\u001b[49m\u001b[43m(\u001b[49m\u001b[43m)\u001b[49m\n\u001b[32m     18\u001b[39m \u001b[38;5;66;03m# 3. 사용 가능한 카테고리 확인\u001b[39;00m\n\u001b[32m     19\u001b[39m categories = fetcher.get_categories()\n",
      "\u001b[36mFile \u001b[39m\u001b[32m~/Documents/Github/ShortFactoryLangChain/tools/reddit_fetcher.py:21\u001b[39m, in \u001b[36mRedditFetcher.__init__\u001b[39m\u001b[34m(self)\u001b[39m\n\u001b[32m     19\u001b[39m \u001b[38;5;66;03m# Google Sheets 설정\u001b[39;00m\n\u001b[32m     20\u001b[39m scope = [\u001b[33m\"\u001b[39m\u001b[33mhttps://spreadsheets.google.com/feeds\u001b[39m\u001b[33m\"\u001b[39m, \u001b[33m'\u001b[39m\u001b[33mhttps://www.googleapis.com/auth/spreadsheets\u001b[39m\u001b[33m'\u001b[39m]\n\u001b[32m---> \u001b[39m\u001b[32m21\u001b[39m creds = \u001b[43mServiceAccountCredentials\u001b[49m\u001b[43m.\u001b[49m\u001b[43mfrom_json_keyfile_name\u001b[49m\u001b[43m(\u001b[49m\u001b[33;43m'\u001b[39;49m\u001b[33;43mcredentials.json\u001b[39;49m\u001b[33;43m'\u001b[39;49m\u001b[43m,\u001b[49m\u001b[43m \u001b[49m\u001b[43mscope\u001b[49m\u001b[43m)\u001b[49m\n\u001b[32m     22\u001b[39m \u001b[38;5;28mself\u001b[39m.sheets_client = gspread.authorize(creds)\n\u001b[32m     23\u001b[39m \u001b[38;5;28mself\u001b[39m.sheet = \u001b[38;5;28mself\u001b[39m.sheets_client.open(os.getenv(\u001b[33m'\u001b[39m\u001b[33mGOOGLE_SHEET_NAME\u001b[39m\u001b[33m'\u001b[39m)).sheet1\n",
      "\u001b[36mFile \u001b[39m\u001b[32m~/Documents/Github/ShortFactoryLangChain/venv/lib/python3.12/site-packages/oauth2client/service_account.py:219\u001b[39m, in \u001b[36mServiceAccountCredentials.from_json_keyfile_name\u001b[39m\u001b[34m(cls, filename, scopes, token_uri, revoke_uri)\u001b[39m\n\u001b[32m    193\u001b[39m \u001b[38;5;129m@classmethod\u001b[39m\n\u001b[32m    194\u001b[39m \u001b[38;5;28;01mdef\u001b[39;00m\u001b[38;5;250m \u001b[39m\u001b[34mfrom_json_keyfile_name\u001b[39m(\u001b[38;5;28mcls\u001b[39m, filename, scopes=\u001b[33m'\u001b[39m\u001b[33m'\u001b[39m,\n\u001b[32m    195\u001b[39m                            token_uri=\u001b[38;5;28;01mNone\u001b[39;00m, revoke_uri=\u001b[38;5;28;01mNone\u001b[39;00m):\n\u001b[32m    197\u001b[39m \u001b[38;5;250m    \u001b[39m\u001b[33;03m\"\"\"Factory constructor from JSON keyfile by name.\u001b[39;00m\n\u001b[32m    198\u001b[39m \n\u001b[32m    199\u001b[39m \u001b[33;03m    Args:\u001b[39;00m\n\u001b[32m   (...)\u001b[39m\u001b[32m    217\u001b[39m \u001b[33;03m            the keyfile.\u001b[39;00m\n\u001b[32m    218\u001b[39m \u001b[33;03m    \"\"\"\u001b[39;00m\n\u001b[32m--> \u001b[39m\u001b[32m219\u001b[39m     \u001b[38;5;28;01mwith\u001b[39;00m \u001b[38;5;28;43mopen\u001b[39;49m\u001b[43m(\u001b[49m\u001b[43mfilename\u001b[49m\u001b[43m,\u001b[49m\u001b[43m \u001b[49m\u001b[33;43m'\u001b[39;49m\u001b[33;43mr\u001b[39;49m\u001b[33;43m'\u001b[39;49m\u001b[43m)\u001b[49m \u001b[38;5;28;01mas\u001b[39;00m file_obj:\n\u001b[32m    220\u001b[39m         client_credentials = json.load(file_obj)\n\u001b[32m    221\u001b[39m     \u001b[38;5;28;01mreturn\u001b[39;00m \u001b[38;5;28mcls\u001b[39m._from_parsed_json_keyfile(client_credentials, scopes,\n\u001b[32m    222\u001b[39m                                          token_uri=token_uri,\n\u001b[32m    223\u001b[39m                                          revoke_uri=revoke_uri)\n",
      "\u001b[31mFileNotFoundError\u001b[39m: [Errno 2] No such file or directory: 'credentials.json'"
     ]
    }
   ],
   "source": [
    "# 1. 필요한 패키지 임포트\n",
    "import os\n",
    "import sys\n",
    "from dotenv import load_dotenv\n",
    "\n",
    "# 프로젝트 루트 디렉토리를 Python 경로에 추가\n",
    "sys.path.append(os.path.abspath('..'))\n",
    "\n",
    "# 환경 변수 로드\n",
    "load_dotenv()\n",
    "\n",
    "# RedditFetcher 클래스 임포트\n",
    "from tools.reddit_fetcher import RedditFetcher\n",
    "\n",
    "# 2. RedditFetcher 인스턴스 생성\n",
    "fetcher = RedditFetcher()\n",
    "\n",
    "# 3. 사용 가능한 카테고리 확인\n",
    "categories = fetcher.get_categories()\n",
    "print(\"사용 가능한 카테고리:\")\n",
    "for category_id, category_info in categories.items():\n",
    "    print(f\"- {category_info['title']}\")\n",
    "    print(f\"  {category_info['description']}\")\n",
    "\n",
    "# 4. 특정 카테고리의 게시물 가져오기 (예: relationships)\n",
    "category = \"relationships\"\n",
    "posts = fetcher.fetch_posts_from_category(\n",
    "    category=category,\n",
    "    posts_per_subreddit=2,  # 각 서브레딧에서 2개의 게시물만 가져오기\n",
    "    time_filter=\"month\"\n",
    ")\n",
    "\n",
    "# 5. 가져온 게시물 출력\n",
    "fetcher.print_category_posts(posts)\n",
    "\n",
    "# 6. Google Sheets에 업데이트\n",
    "for subreddit, subreddit_posts in posts.items():\n",
    "    print(f\"\\nUpdating posts from r/{subreddit} to Google Sheets...\")\n",
    "    fetcher.update_google_sheet(subreddit_posts)\n",
    "    print(f\"Updated {len(subreddit_posts)} posts\")\n",
    "\n",
    "# 7. production 상태의 게시물 확인\n",
    "print(\"\\nChecking production status posts...\")\n",
    "production_posts = fetcher.get_production_posts()\n",
    "print(f\"Found {len(production_posts)} posts in production status\")\n",
    "for post in production_posts:\n",
    "    print(f\"- {post['Title']} (Score: {post['Score']})\")"
   ]
  },
  {
   "cell_type": "code",
   "execution_count": null,
   "id": "952692c1-8658-4572-b969-13d22678f323",
   "metadata": {},
   "outputs": [],
   "source": []
  }
 ],
 "metadata": {
  "kernelspec": {
   "display_name": "Python 3 (ipykernel)",
   "language": "python",
   "name": "python3"
  },
  "language_info": {
   "codemirror_mode": {
    "name": "ipython",
    "version": 3
   },
   "file_extension": ".py",
   "mimetype": "text/x-python",
   "name": "python",
   "nbconvert_exporter": "python",
   "pygments_lexer": "ipython3",
   "version": "3.12.2"
  }
 },
 "nbformat": 4,
 "nbformat_minor": 5
}
